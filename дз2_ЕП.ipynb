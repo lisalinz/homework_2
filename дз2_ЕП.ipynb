{
  "cells": [
    {
      "cell_type": "markdown",
      "id": "d1c933ad-9f22-4881-b511-316a06b2d28c",
      "metadata": {
        "id": "d1c933ad-9f22-4881-b511-316a06b2d28c"
      },
      "source": [
        "## Работа с файлами, pandas + парсинг"
      ]
    },
    {
      "cell_type": "markdown",
      "id": "48fba6f4-7e82-4623-a85e-487a173967c9",
      "metadata": {
        "id": "48fba6f4-7e82-4623-a85e-487a173967c9"
      },
      "source": [
        "Давайте соберем корпус эко-новостей с сайта новостного издания \"Ведомости\". \n",
        "\n",
        "[По этой ссылке можно найти главную страницу](https://www.vedomosti.ru/ecology?utm_source=vedomosti.ru%2Fgorod&utm_medium=main&utm_campaign=desktop_main\n",
        ")\n",
        "\n",
        "Что нам предстоит сделать:\n",
        "- достать все заголовки новостей в главной страницы + текст каждой новости\n",
        "- сохранить в датафрейм с колонками \"источник\", \"дата\", \"заголовок\", \"текст\"\n",
        "\n",
        "- сохранить датафрейм в файл\n",
        "- положить код и получившийся файл в свой репозиторий на гитхабе\n",
        "\n"
      ]
    },
    {
      "cell_type": "code",
      "execution_count": 1,
      "id": "7926e4e3-8359-41f6-8dfb-39b2c194d66a",
      "metadata": {
        "id": "7926e4e3-8359-41f6-8dfb-39b2c194d66a"
      },
      "outputs": [],
      "source": [
        "import requests as rq\n",
        "\n",
        "from bs4 import BeautifulSoup\n",
        "\n",
        "import pandas as pd"
      ]
    },
    {
      "cell_type": "code",
      "source": [
        "eco1=rq.get('https://theblueprint.ru/news/21208')\n",
        "eco1"
      ],
      "metadata": {
        "colab": {
          "base_uri": "https://localhost:8080/"
        },
        "id": "boyG1F5M43ZE",
        "outputId": "98fbb89d-e371-4e96-efa6-9d6e21690d07"
      },
      "execution_count": 2,
      "outputs": [
        {
          "output_type": "execute_result",
          "data": {
            "text/plain": [
              "<Response [200]>"
            ]
          },
          "metadata": {},
          "execution_count": 2
        }
      ],
      "id": "boyG1F5M43ZE"
    },
    {
      "cell_type": "code",
      "source": [
        "eco1.text"
      ],
      "metadata": {
        "id": "Ga9uem_R48dz"
      },
      "id": "Ga9uem_R48dz",
      "execution_count": null,
      "outputs": []
    },
    {
      "cell_type": "code",
      "source": [
        "soup1 = BeautifulSoup(eco1.text, 'html.parser')\n",
        "soup1.prettify()"
      ],
      "metadata": {
        "id": "cI1cU56s5WX9"
      },
      "execution_count": null,
      "outputs": [],
      "id": "cI1cU56s5WX9"
    },
    {
      "cell_type": "code",
      "source": [
        "with open(\"../content/headlines.csv\", \"a\") as file:\n",
        "    for y in soup2.find_all('div',attrs={'class':'show-page-v2__title'}):\n",
        "        file.write(y.text)"
      ],
      "metadata": {
        "id": "w5dDW_AqBeUx"
      },
      "id": "w5dDW_AqBeUx",
      "execution_count": null,
      "outputs": []
    },
    {
      "cell_type": "code",
      "source": [
        "data = {}\n",
        "\n",
        "for idx, y in enumerate(soup.find_all(\"title\")):\n",
        "    data.update({idx:[x.text,url]})\n",
        "\n",
        "    \n",
        "df = pd.DataFrame.from_dict(data,columns=[\"content\",\"source\"], orient=\"index\")\n",
        "\n",
        "\n",
        "df"
      ],
      "metadata": {
        "id": "ZdnFqEZ6M6Hg"
      },
      "id": "ZdnFqEZ6M6Hg",
      "execution_count": null,
      "outputs": []
    },
    {
      "cell_type": "code",
      "source": [
        "eco2=rq.get('https://theblueprint.ru/news/18835')\n",
        "eco2"
      ],
      "metadata": {
        "colab": {
          "base_uri": "https://localhost:8080/"
        },
        "id": "ZODb2x1o44lP",
        "outputId": "5b4884db-b68d-4e30-b3fe-bcf683ea94f5"
      },
      "execution_count": 6,
      "outputs": [
        {
          "output_type": "execute_result",
          "data": {
            "text/plain": [
              "<Response [200]>"
            ]
          },
          "metadata": {},
          "execution_count": 6
        }
      ],
      "id": "ZODb2x1o44lP"
    },
    {
      "cell_type": "code",
      "source": [
        "eco2.text"
      ],
      "metadata": {
        "id": "cSl1DGu85BnC"
      },
      "execution_count": null,
      "outputs": [],
      "id": "cSl1DGu85BnC"
    },
    {
      "cell_type": "code",
      "source": [
        "soup2 = BeautifulSoup(eco2.text, 'html.parser')\n",
        "soup2.prettify()"
      ],
      "metadata": {
        "id": "fCYO4V7A5t9q"
      },
      "execution_count": null,
      "outputs": [],
      "id": "fCYO4V7A5t9q"
    },
    {
      "cell_type": "code",
      "source": [
        "eco3=rq.get('https://theblueprint.ru/news/18561')\n",
        "eco3"
      ],
      "metadata": {
        "colab": {
          "base_uri": "https://localhost:8080/"
        },
        "id": "vUx43G3c44wT",
        "outputId": "aaf5edd1-1108-4795-b851-b106bc5c4f28"
      },
      "execution_count": 9,
      "outputs": [
        {
          "output_type": "execute_result",
          "data": {
            "text/plain": [
              "<Response [200]>"
            ]
          },
          "metadata": {},
          "execution_count": 9
        }
      ],
      "id": "vUx43G3c44wT"
    },
    {
      "cell_type": "code",
      "source": [
        "eco3.text"
      ],
      "metadata": {
        "id": "3JrunaXu5DFR"
      },
      "execution_count": null,
      "outputs": [],
      "id": "3JrunaXu5DFR"
    },
    {
      "cell_type": "code",
      "source": [
        "soup3 = BeautifulSoup(eco3.text, 'html.parser')\n",
        "soup3.prettify()"
      ],
      "metadata": {
        "id": "cVfACiJ75whJ"
      },
      "execution_count": null,
      "outputs": [],
      "id": "cVfACiJ75whJ"
    },
    {
      "cell_type": "code",
      "source": [
        "eco4=rq.get('https://theblueprint.ru/news/20970')\n",
        "eco4"
      ],
      "metadata": {
        "colab": {
          "base_uri": "https://localhost:8080/"
        },
        "id": "xCtQU29v442q",
        "outputId": "246f840c-3523-43b1-fdf1-1a8f58c0f114"
      },
      "execution_count": 12,
      "outputs": [
        {
          "output_type": "execute_result",
          "data": {
            "text/plain": [
              "<Response [200]>"
            ]
          },
          "metadata": {},
          "execution_count": 12
        }
      ],
      "id": "xCtQU29v442q"
    },
    {
      "cell_type": "code",
      "source": [
        "eco4.text"
      ],
      "metadata": {
        "id": "zwLonvoJ5Dgg"
      },
      "execution_count": null,
      "outputs": [],
      "id": "zwLonvoJ5Dgg"
    },
    {
      "cell_type": "code",
      "source": [
        "soup4 = BeautifulSoup(eco4.text, 'html.parser')\n",
        "soup4.prettify()"
      ],
      "metadata": {
        "id": "rp3VPjLj5xEq"
      },
      "execution_count": null,
      "outputs": [],
      "id": "rp3VPjLj5xEq"
    },
    {
      "cell_type": "code",
      "source": [
        "eco5=rq.get('https://theblueprint.ru/news/18539')\n",
        "eco5"
      ],
      "metadata": {
        "colab": {
          "base_uri": "https://localhost:8080/"
        },
        "id": "KuxH1L-v4464",
        "outputId": "c41234e3-1ced-42b5-fb7d-5a399e129367"
      },
      "execution_count": 15,
      "outputs": [
        {
          "output_type": "execute_result",
          "data": {
            "text/plain": [
              "<Response [200]>"
            ]
          },
          "metadata": {},
          "execution_count": 15
        }
      ],
      "id": "KuxH1L-v4464"
    },
    {
      "cell_type": "code",
      "source": [
        "eco5.text"
      ],
      "metadata": {
        "id": "L98-OLRg5EGH"
      },
      "execution_count": null,
      "outputs": [],
      "id": "L98-OLRg5EGH"
    },
    {
      "cell_type": "code",
      "source": [
        "soup5 = BeautifulSoup(eco5.text, 'html.parser')\n",
        "soup5.prettify()"
      ],
      "metadata": {
        "id": "dzfsRxiC5xrj"
      },
      "execution_count": null,
      "outputs": [],
      "id": "dzfsRxiC5xrj"
    },
    {
      "cell_type": "code",
      "source": [
        "eco6=rq.get('https://theblueprint.ru/news/18149')\n",
        "eco6"
      ],
      "metadata": {
        "colab": {
          "base_uri": "https://localhost:8080/"
        },
        "id": "_f44R2em448b",
        "outputId": "6b9bc6cd-b4dd-4ff4-a958-617c48e81f4b"
      },
      "execution_count": 126,
      "outputs": [
        {
          "output_type": "execute_result",
          "data": {
            "text/plain": [
              "<Response [200]>"
            ]
          },
          "metadata": {},
          "execution_count": 126
        }
      ],
      "id": "_f44R2em448b"
    },
    {
      "cell_type": "code",
      "source": [
        "eco6.text"
      ],
      "metadata": {
        "id": "iO1tTVf_5Edd"
      },
      "execution_count": null,
      "outputs": [],
      "id": "iO1tTVf_5Edd"
    },
    {
      "cell_type": "code",
      "source": [
        "soup6 = BeautifulSoup(eco6.text, 'html.parser')\n",
        "soup6.prettify()"
      ],
      "metadata": {
        "id": "mh8pF8Ru5yNl"
      },
      "execution_count": null,
      "outputs": [],
      "id": "mh8pF8Ru5yNl"
    },
    {
      "cell_type": "code",
      "source": [
        "eco7=rq.get('https://theblueprint.ru/news/18484')\n",
        "eco7"
      ],
      "metadata": {
        "colab": {
          "base_uri": "https://localhost:8080/"
        },
        "id": "dhKRhhNG449-",
        "outputId": "6b41b7c1-e605-4776-f21f-ed3fdab55610"
      },
      "execution_count": 21,
      "outputs": [
        {
          "output_type": "execute_result",
          "data": {
            "text/plain": [
              "<Response [200]>"
            ]
          },
          "metadata": {},
          "execution_count": 21
        }
      ],
      "id": "dhKRhhNG449-"
    },
    {
      "cell_type": "code",
      "source": [
        "eco7.text"
      ],
      "metadata": {
        "id": "JFasixKZ5FAt"
      },
      "execution_count": null,
      "outputs": [],
      "id": "JFasixKZ5FAt"
    },
    {
      "cell_type": "code",
      "source": [
        "soup7 = BeautifulSoup(eco7.text, 'html.parser')\n",
        "soup7.prettify()"
      ],
      "metadata": {
        "id": "kVCG5iI05ypF"
      },
      "execution_count": null,
      "outputs": [],
      "id": "kVCG5iI05ypF"
    },
    {
      "cell_type": "code",
      "source": [
        "eco8=rq.get('https://theblueprint.ru/news/20872')\n",
        "eco8"
      ],
      "metadata": {
        "colab": {
          "base_uri": "https://localhost:8080/"
        },
        "id": "ry6FsHCW44_w",
        "outputId": "140d4c49-1eee-4ab9-dd33-2a45420ec294"
      },
      "execution_count": 28,
      "outputs": [
        {
          "output_type": "execute_result",
          "data": {
            "text/plain": [
              "<Response [200]>"
            ]
          },
          "metadata": {},
          "execution_count": 28
        }
      ],
      "id": "ry6FsHCW44_w"
    },
    {
      "cell_type": "code",
      "source": [
        "eco8.text"
      ],
      "metadata": {
        "id": "QULQpA6B5FTP"
      },
      "execution_count": null,
      "outputs": [],
      "id": "QULQpA6B5FTP"
    },
    {
      "cell_type": "code",
      "source": [
        "soup8 = BeautifulSoup(eco8.text, 'html.parser')\n",
        "soup8.prettify()"
      ],
      "metadata": {
        "id": "KRh5pX5N5zBG"
      },
      "execution_count": null,
      "outputs": [],
      "id": "KRh5pX5N5zBG"
    },
    {
      "cell_type": "code",
      "source": [
        "eco9=rq.get('https://theblueprint.ru/news/18090')\n",
        "eco9"
      ],
      "metadata": {
        "id": "k6DiUPj_45Bx"
      },
      "execution_count": null,
      "outputs": [],
      "id": "k6DiUPj_45Bx"
    },
    {
      "cell_type": "code",
      "source": [
        "eco9.text"
      ],
      "metadata": {
        "id": "oOp6bUJc5Fqu"
      },
      "execution_count": null,
      "outputs": [],
      "id": "oOp6bUJc5Fqu"
    },
    {
      "cell_type": "code",
      "source": [
        "soup9 = BeautifulSoup(eco9.text, 'html.parser')\n",
        "soup9.prettify()"
      ],
      "metadata": {
        "id": "9aAY1KVn5zdp"
      },
      "execution_count": null,
      "outputs": [],
      "id": "9aAY1KVn5zdp"
    },
    {
      "cell_type": "code",
      "source": [
        "eco10=rq.get('https://theblueprint.ru/news/20039')\n",
        "eco10"
      ],
      "metadata": {
        "colab": {
          "base_uri": "https://localhost:8080/"
        },
        "id": "VcXmZphL45D7",
        "outputId": "2b49beb0-3943-46dc-c2ce-62e89595fbdc"
      },
      "execution_count": 34,
      "outputs": [
        {
          "output_type": "execute_result",
          "data": {
            "text/plain": [
              "<Response [200]>"
            ]
          },
          "metadata": {},
          "execution_count": 34
        }
      ],
      "id": "VcXmZphL45D7"
    },
    {
      "cell_type": "code",
      "source": [
        "eco10.text"
      ],
      "metadata": {
        "id": "itczRqGH5GPv"
      },
      "execution_count": null,
      "outputs": [],
      "id": "itczRqGH5GPv"
    },
    {
      "cell_type": "code",
      "source": [
        "soup10 = BeautifulSoup(eco10.text, 'html.parser')\n",
        "soup10.prettify()"
      ],
      "metadata": {
        "id": "ouXc6D5550Oz"
      },
      "execution_count": null,
      "outputs": [],
      "id": "ouXc6D5550Oz"
    },
    {
      "cell_type": "code",
      "source": [
        "eco11=rq.get('https://theblueprint.ru/news/18231')\n",
        "eco11"
      ],
      "metadata": {
        "colab": {
          "base_uri": "https://localhost:8080/"
        },
        "id": "9jjmWFCY45Gp",
        "outputId": "7b682677-1e6c-46a1-b7b1-7046a0d87c57"
      },
      "execution_count": 37,
      "outputs": [
        {
          "output_type": "execute_result",
          "data": {
            "text/plain": [
              "<Response [200]>"
            ]
          },
          "metadata": {},
          "execution_count": 37
        }
      ],
      "id": "9jjmWFCY45Gp"
    },
    {
      "cell_type": "code",
      "source": [
        "eco11.text"
      ],
      "metadata": {
        "id": "rjIIX0fk5GuN"
      },
      "execution_count": null,
      "outputs": [],
      "id": "rjIIX0fk5GuN"
    },
    {
      "cell_type": "code",
      "source": [
        "soup11 = BeautifulSoup(eco11.text, 'html.parser')\n",
        "soup11.prettify()"
      ],
      "metadata": {
        "id": "d8kjxPdz501v"
      },
      "execution_count": null,
      "outputs": [],
      "id": "d8kjxPdz501v"
    },
    {
      "cell_type": "code",
      "source": [
        "eco12=rq.get('https://theblueprint.ru/news/18056')\n",
        "eco12"
      ],
      "metadata": {
        "colab": {
          "base_uri": "https://localhost:8080/"
        },
        "id": "Aab0rVcy4q2n",
        "outputId": "145d823a-5152-4f66-b2e9-fa07975dd08b"
      },
      "id": "Aab0rVcy4q2n",
      "execution_count": 40,
      "outputs": [
        {
          "output_type": "execute_result",
          "data": {
            "text/plain": [
              "<Response [200]>"
            ]
          },
          "metadata": {},
          "execution_count": 40
        }
      ]
    },
    {
      "cell_type": "code",
      "source": [
        "eco12.text"
      ],
      "metadata": {
        "id": "qs3bSehg5G-I"
      },
      "execution_count": null,
      "outputs": [],
      "id": "qs3bSehg5G-I"
    },
    {
      "cell_type": "code",
      "source": [
        "soup12 = BeautifulSoup(eco12.text, 'html.parser')\n",
        "soup12.prettify()"
      ],
      "metadata": {
        "id": "M9oXDBaN51XO"
      },
      "execution_count": null,
      "outputs": [],
      "id": "M9oXDBaN51XO"
    },
    {
      "cell_type": "code",
      "source": [
        "eco13=rq.get('https://theblueprint.ru/news/14783')\n",
        "eco13\n",
        "\n",
        "eco13.text\n",
        "\n",
        "soup13 = BeautifulSoup(eco13.text, 'html.parser')\n",
        "soup13.prettify()"
      ],
      "metadata": {
        "id": "VTEp6zsu75OO"
      },
      "id": "VTEp6zsu75OO",
      "execution_count": null,
      "outputs": []
    },
    {
      "cell_type": "code",
      "source": [
        "eco14=rq.get('https://theblueprint.ru/news/17749')\n",
        "eco14\n",
        "\n",
        "eco14.text\n",
        "\n",
        "soup14 = BeautifulSoup(eco14.text, 'html.parser')\n",
        "soup14.prettify()"
      ],
      "metadata": {
        "id": "yGUH89j078ox"
      },
      "id": "yGUH89j078ox",
      "execution_count": null,
      "outputs": []
    },
    {
      "cell_type": "code",
      "source": [
        "eco15=rq.get('https://theblueprint.ru/news/14607')\n",
        "eco15\n",
        "\n",
        "eco15.text\n",
        "\n",
        "soup15 = BeautifulSoup(eco15.text, 'html.parser')\n",
        "soup15.prettify()"
      ],
      "metadata": {
        "id": "Ujvuxn7x79hP"
      },
      "id": "Ujvuxn7x79hP",
      "execution_count": null,
      "outputs": []
    },
    {
      "cell_type": "code",
      "source": [
        "eco16=rq.get('https://theblueprint.ru/news/17653')\n",
        "eco16\n",
        "\n",
        "eco16.text\n",
        "\n",
        "soup16 = BeautifulSoup(eco16.text, 'html.parser')\n",
        "soup16.prettify()"
      ],
      "metadata": {
        "id": "ESjVlnGD8h4i"
      },
      "execution_count": null,
      "outputs": [],
      "id": "ESjVlnGD8h4i"
    },
    {
      "cell_type": "code",
      "source": [
        "eco17=rq.get('https://theblueprint.ru/news/14606')\n",
        "eco17\n",
        "\n",
        "eco17.text\n",
        "\n",
        "soup17 = BeautifulSoup(eco17.text, 'html.parser')\n",
        "soup17.prettify()"
      ],
      "metadata": {
        "id": "BUpm4ONc8iBN"
      },
      "execution_count": null,
      "outputs": [],
      "id": "BUpm4ONc8iBN"
    },
    {
      "cell_type": "code",
      "source": [
        "eco18=rq.get('https://theblueprint.ru/news/13994')\n",
        "eco18\n",
        "\n",
        "eco18.text\n",
        "\n",
        "soup18 = BeautifulSoup(eco18.text, 'html.parser')\n",
        "soup18.prettify()"
      ],
      "metadata": {
        "id": "q3T5Ez-68iEj"
      },
      "execution_count": null,
      "outputs": [],
      "id": "q3T5Ez-68iEj"
    },
    {
      "cell_type": "code",
      "source": [
        "eco19=rq.get('https://theblueprint.ru/news/14393')\n",
        "eco19\n",
        "\n",
        "eco19.text\n",
        "\n",
        "soup19 = BeautifulSoup(eco19.text, 'html.parser')\n",
        "soup19.prettify()"
      ],
      "metadata": {
        "id": "Y6AA1C9L8iGj"
      },
      "execution_count": null,
      "outputs": [],
      "id": "Y6AA1C9L8iGj"
    },
    {
      "cell_type": "code",
      "source": [
        "eco20=rq.get('https://theblueprint.ru/news/15829')\n",
        "eco20\n",
        "\n",
        "eco20.text\n",
        "\n",
        "soup20 = BeautifulSoup(eco20.text, 'html.parser')\n",
        "soup20.prettify()"
      ],
      "metadata": {
        "id": "1M6gK8238iJF"
      },
      "execution_count": null,
      "outputs": [],
      "id": "1M6gK8238iJF"
    },
    {
      "cell_type": "code",
      "source": [
        "eco21=rq.get('https://theblueprint.ru/news/13987')\n",
        "eco21\n",
        "\n",
        "eco21.text\n",
        "\n",
        "soup21 = BeautifulSoup(eco21.text, 'html.parser')\n",
        "soup21.prettify()"
      ],
      "metadata": {
        "id": "ubJaxKjq8iLl"
      },
      "execution_count": null,
      "outputs": [],
      "id": "ubJaxKjq8iLl"
    },
    {
      "cell_type": "code",
      "source": [
        "eco22=rq.get('https://theblueprint.ru/news/15716')\n",
        "eco22\n",
        "\n",
        "eco22.text\n",
        "\n",
        "soup22 = BeautifulSoup(eco22.text, 'html.parser')\n",
        "soup22.prettify()"
      ],
      "metadata": {
        "id": "0aja2Uex8iN_"
      },
      "execution_count": null,
      "outputs": [],
      "id": "0aja2Uex8iN_"
    },
    {
      "cell_type": "code",
      "source": [
        "eco23=rq.get('https://theblueprint.ru/news/14295')\n",
        "eco23\n",
        "\n",
        "eco23.text\n",
        "\n",
        "soup23 = BeautifulSoup(eco23.text, 'html.parser')\n",
        "soup23.prettify()"
      ],
      "metadata": {
        "id": "b0XfWjar8iP1"
      },
      "execution_count": null,
      "outputs": [],
      "id": "b0XfWjar8iP1"
    },
    {
      "cell_type": "code",
      "source": [
        "eco24=rq.get('https://theblueprint.ru/news/13164')\n",
        "eco24\n",
        "\n",
        "eco24.text\n",
        "\n",
        "soup24 = BeautifulSoup(eco24.text, 'html.parser')\n",
        "soup24.prettify()"
      ],
      "metadata": {
        "id": "x1T1rpM18iSI"
      },
      "execution_count": null,
      "outputs": [],
      "id": "x1T1rpM18iSI"
    },
    {
      "cell_type": "code",
      "source": [
        "for y in soup1.find_all('h1'):\n",
        "  print(y.text)\n",
        "for y in soup2.find_all('h1'):\n",
        "  print(y.text)\n",
        "for y in soup3.find_all('h1'):\n",
        "  print(y.text)\n",
        "for y in soup4.find_all('h1'):\n",
        "  print(y.text)\n",
        "for y in soup5.find_all('h1'):\n",
        "  print(y.text)\n",
        "for y in soup6.find_all('meta'):\n",
        "  print(y.text)\n",
        "for y in soup7.find_all('h1'):\n",
        "  print(y.text)\n",
        "for y in soup8.find_all('h1'):\n",
        "  print(y.text)\n",
        "for y in soup9.find_all('h1'):\n",
        "  print(y.text)\n",
        "for y in soup10.find_all('h1'):\n",
        "  print(y.text)\n",
        "for y in soup11.find_all('h1'):\n",
        "  print(y.text)\n",
        "for y in soup12.find_all('h1'):\n",
        "  print(y.text)\n",
        "for y in soup13.find_all('h1'):\n",
        "  print(y.text)\n",
        "for y in soup14.find_all('h1'):\n",
        "  print(y.text)\n",
        "for y in soup15.find_all('h1'):\n",
        "  print(y.text)\n",
        "for y in soup16.find_all('h1'):\n",
        "  print(y.text)\n",
        "for y in soup17.find_all('h1'):\n",
        "  print(y.text)\n",
        "for y in soup18.find_all('h1'):\n",
        "  print(y.text)\n",
        "for y in soup19.find_all('h1'):\n",
        "  print(y.text)\n",
        "for y in soup20.find_all('h1'):\n",
        "  print(y.text)\n",
        "for y in soup21.find_all('h1'):\n",
        "  print(y.text)\n",
        "for y in soup22.find_all('h1'):\n",
        "  print(y.text)\n",
        "for y in soup23.find_all('h1'):\n",
        "  print(y.text)\n",
        "for y in soup24.find_all('h1'):\n",
        "  print(y.text)"
      ],
      "metadata": {
        "id": "Tgf1tK86BBE4"
      },
      "id": "Tgf1tK86BBE4",
      "execution_count": null,
      "outputs": []
    },
    {
      "cell_type": "code",
      "source": [
        "for x in soup1.find_all('span'):\n",
        "  print(x.text)\n",
        "for x in soup2.find_all('span'):\n",
        "  print(x.text)\n",
        "for x in soup3.find_all('span'):\n",
        "  print(x.text)\n",
        "for x in soup4.find_all('span'):\n",
        "  print(x.text)\n",
        "for x in soup5.find_all('span'):\n",
        "  print(x.text)\n",
        "for x in soup6.find_all('span'):\n",
        "  print(x.text)\n",
        "for x in soup7.find_all('span'):\n",
        "  print(x.text)\n",
        "for x in soup8.find_all('span'):\n",
        "  print(x.text)\n",
        "for x in soup9.find_all('span'):\n",
        "  print(x.text)\n",
        "for x in soup10.find_all('span'):\n",
        "  print(x.text)\n",
        "for x in soup11.find_all('span'):\n",
        "  print(x.text)\n",
        "for x in soup12.find_all('span'):\n",
        "  print(x.text)\n",
        "for x in soup13.find_all('span'):\n",
        "  print(x.text)\n",
        "for x in soup14.find_all('span'):\n",
        "  print(x.text)\n",
        "for x in soup15.find_all('span'):\n",
        "  print(x.text)\n",
        "for x in soup16.find_all('span'):\n",
        "  print(x.text)\n",
        "for x in soup17.find_all('span'):\n",
        "  print(x.text)\n",
        "for x in soup18.find_all('span'):\n",
        "  print(x.text)\n",
        "for x in soup19.find_all('span'):\n",
        "  print(x.text)\n",
        "for x in soup20.find_all('span'):\n",
        "  print(x.text)\n",
        "for x in soup21.find_all('span'):\n",
        "  print(x.text)\n",
        "for x in soup22.find_all('span'):\n",
        "  print(x.text)\n",
        "for x in soup23.find_all('span'):\n",
        "  print(x.text)\n",
        "for x in soup24.find_all('span'):\n",
        "  print(x.text)"
      ],
      "metadata": {
        "id": "z30YnR46XnAF"
      },
      "id": "z30YnR46XnAF",
      "execution_count": null,
      "outputs": []
    },
    {
      "cell_type": "code",
      "source": [
        "# data = {}\n",
        "\n",
        "# for idx, y in enumerate(soup1.find_all('h1')):\n",
        "#     data.update({idx:[y.text,eco1]})\n",
        "\n",
        "# df = pd.DataFrame.from_dict(data,columns=[\"headlines\",\"x\"], orient=\"index\")\n",
        "\n",
        "# df\n",
        "# df.to_csv('eco.csv')"
      ],
      "metadata": {
        "id": "IHDem6BgSLLK"
      },
      "id": "IHDem6BgSLLK",
      "execution_count": 87,
      "outputs": []
    },
    {
      "cell_type": "code",
      "source": [
        "data={\n",
        "    '1':['https://theblueprint.ru/news/21208','14.06.21','Kenzo, фонд WWF И Л’этуаль помогут сохранить моря России','Kenzo, фонд WWF И Л’этуаль помогут сохранить моря России Бренд Kenzo совместно с Всемирным фондом дикой природы (WWF) и сетью  Л’Этуаль запускает проект «Сохраним моря России вместе». Компании хотят защитить биоразнообразие морских и прибрежных экосистем. Для этого эксперты изучат Дальневосточный морской заповедник, определят местоположение брошенных орудий лова и решат, как их можно переработать. Бренд Kenzo перечислит часть средств от продажи ароматов линии L’eau Kenzo в сети Л’Этуаль Всемирному фонду дикой природы (WWF). Деньги пойдут на проекты по сохранению биоразнообразия морских и прибрежных экосистем. Подробнее об инициативе можно узнать тут.'],\n",
        "    '2':['https://theblueprint.ru/news/18835','09.12.20','В концепт-сторе Peak пройдет презентация коллекции апсайкл-ателье «То-На-То»','«То-На-То» В московском концепт-сторе Peak открылось временное пространство апсайкл-ателье «То-На-То». До 22 декабря в магазине на Петровском бульваре можно будет приобрести модели из коллекции «Биоразнообразие», которую «То-На-То» представили на ярмарке современного искусства Cosmoscow 2020. Размышляя над экологическими проблемами и устойчивым развитием, «То-На-То» дополнили архивные вещи Haider Ackermann, Ann Demeulemeester, Acne Studios, Lanvin, Neighbourhood и других брендов соответствующими принтами и надписями. Например, белоснежное пальто Jil Sander «То-На-То» украсили вышивкой в виде плесени, намекая на то, что именно такое будущее ждет моду как результат процессов fast-fashion и импульсивных покупок. Кроме того, в концепт-сторе Peak можно будет кастомизировать собственные вещи — команда «То-На-То» украсит одежду вышивкой и принтами.Также 19 и 20 декабря пройдут мастер-классы по вышивке от команды ателье «То-На-То». Записаться на них можно в инстаграме проекта (стоимость мастер-класса — 5500 руб.).'],\n",
        "    '3':['https://theblueprint.ru/news/18561','20.11.20','Том Форд решил спасти мировой океан и запустил конкурс для дизайнеров. Приз — $1 млн ','Также дизайнер представил часы из переработанного океанического пластика. Модель получила название Tom Ford Ocean Plastic Timepeace. Цена часов — $995. Отмечается, что одни часы эквивалентны 35 пластиковым бутылкам. «Это первые часы в люксовом сегменте, сделанные из переработанного океанического пластика. В них вложено много труда, и я горжусь этим проектом», — прокомментировал Том Форд.'],\n",
        "    '4':['https://theblueprint.ru/news/20970','13.05.21','Pangaia ввели цифровые паспорта. Они помогут отследить историю создания вещей ','Бренд одежды Pangaia ввел цифровые паспорта, чтобы сделать продуктовую цепочку прозрачной. На бирках появится QR-код, который показывает историю создания вещи: от происхождения сырья до цепочки поставок. Также покупатели смогут узнать, как лучше ухаживать за одеждой. Цифровые паспорта появятся в коллекции футболок Pangaia из новой линии Horizon, которая поступит в продажу сегодня, 13 мая. К 2022 году Pangaia обещают отслеживать полный жизненный цикл 80% своих товаров.'],\n",
        "    '5':['https://theblueprint.ru/news/18539','19.11.20','H&M cоздали коллекцию из переработанных материалов — и вот что получилось ','H&M выпустили коллекцию Conscious Exclusive осень-зима 2020 — она выполнена из экоматериалов. При создании одежды H&M использовали натуральное волокно и переработанные ткани. В коллекцию вошли платья из жаккардовой тафты, топы с объемными рукавами и костюмы-двойки. В Conscious Exclusive также представлена мужская одежда — классический смокинг, рубашка с цветочным принтом и желтый жаккардовый жакет. Среди аксессуаров — колье-чокеры, серьги, клипсы и солнцезащитные очки. Лицом кампании стала активистка и модель Цинния Кумар. Коллекция будет доступна на официальном сайте бренда с 1 декабря.'],\n",
        "    '6':['https://theblueprint.ru/news/18149','20.10.20','Устойчивое развитие и верность приципам. Аналитики рассказали, что нужно сотрудникам','Исследовательская платформа Unily совместно со специалистом по устойчивому развитию Лейлой Акароглу выпустили отчет Future of Workplace Sustainability Report. Это доклад о влиянии изменения климата, Covid-19 и sustainability на будущее офисных работников. В результате опроса 2000 сотрудников модных компаний Великобритании Акароглу выяснила, что 83% респондентов полагают, что их компания делает недостаточно для решения серьезных проблем в области экологии. Согласно новым данным, 65% опрошенных с большей вероятностью будут работать в компании с сильной экологической политикой, 72% офисных работников озабочены вопросами экологической этики, а 63% респондентов хотели бы научиться экологичным навыкам, чтобы стать более ценными на рабочем месте. На вопрос о том, совпадают ли экологические ценности сотрудников и их компаний,  80% респондентов вовсе заявили, что их компании не разделяют такие идеи или же разделяют их на минимальном уровне. Кроме того, исследование выявило несколько «мегатрендов» социального уровня, которые влияют на то, как мы работаем, а еще на типы бизнес-моделей, которые будут успешными в будущем. К ним относится адаптация к изменению климата, переход к циркулярной экономике, дефицит ресурсов, справедливость в отношении работников и организации цепочек поставок, а также нулевое количество отходов. Генеральный директор Unily по работе с клиентами Джо Скилтон отметил, что причиной таких результатов стала пандемия коронавируса, вынудившая многих офисных сотрудников перейти на удаленный режим работы и переосмыслить свои взгляды. «Covid-19 стал настоящим катализатором перемен и преобразований во всем мире. Мы говорили со многими компаниями на протяжении многих лет, стремясь изменить то, как они работают, но у них раньше не было острой необходимости меняться, а пандемия ускорила процесс принятия решений и изменений в компаниях», — говорит он. Полный отчет Unily можно найти тут.'],\n",
        "    '7':['https://theblueprint.ru/news/18484','16.11.20','Организация Remake опубликовала рейтинг экобрендов: H&M и Uniqlo набрали меньше 30 баллов из 100','Организация Remake опубликовала рейтинг экобрендов: H&M и Uniqlo набрали меньше 30 баллов из 100 Организация по устойчивому развитию Remake опубликовала новый рейтинг экологичности брендов. Об этом сообщают The Business of Fashion. Remake оценивали компании по 100-балльной шкале и анализировали качество изделий, социальной ответственности перед сотрудниками и соответствие принципам разнообразия. Patagonia, Mara Hoffman, Girlfriend Collective и Nudie jeans получили более 50 баллов — Remake признали, что этим брендам удалось объединить моду и экологию. Марки масс-маркета (такие как H&M и Uniqlo) оказались внизу рейтинга и набрали менее 30 баллов. Бренды Missguided и Boohoo набрали меньше 5 очков.'],\n",
        "    '8':['https://theblueprint.ru/news/20872','20.04.21','Джейден Смит стал героем кампании Levi’s  «Покупай осознанно. Носи дольше»','Levi’s запустили новую весеннюю кампанию «Покупай осознанно, носи дольше». Ее цель — привлечь внимание к проблеме перепотребления одежды. В кампании приняли участие Джейден Смит, Ксия Бастида, Мелати Вийсен, Эмма Чемберлен и Маркус Рашфорд. Название кампании передает основной смысл политики бренда в рамках устойчивого развития. Levi’s работают над тем, чтобы сократить неблагоприятное воздействие индустрии на ресурсы планеты. Например, инвестируют в инновационные материалы («котонизированное» конопляное волокно и органический хлопок) и техники производства. Так, 76% всей продукции компании Levi Strauss & Co. и 70% всех низов и джинсовых курток бренда Levi’s® создаются с использованием технологии Water, благодаря которой бренду удалось сэкономить более 4 миллиардов литров воды.'],\n",
        "    '9':['https://theblueprint.ru/news/18090','15.10.20','IKEA запустили акцию #BuyBackFriday. Компания будет выкупать мебель у покупателей','IKEA запускают акцию #BuyBackFriday («Выкупай-пятница»). Вместо традиционного снижения цен во время «черной пятницы» компания будет выкупать у своих клиентов старую мебель. #BuyBackFriday — один из проектов IKEA по борьбе с изменениями климата. Покупатели смогут принести купленные в IKEA ящики, столы, стулья, шкафы и стеллажи, а затем получить за них ваучеры стоимостью в половину цены аналогичного нового продукта. Вещи в хорошем состоянии будут перепродавать, а поврежденные и непригодные для эксплуатации отправят на переработку. Акция продлится с 24 ноября по 3 декабря. В ней примут участие магазины IKEA в 27 странах — в частности, в России, Франции, Италии, Австралии, Канаде, Германии и Японии.'],\n",
        "    '10':['https://theblueprint.ru/news/20039','05.03.21','Создательница Arctic Explorer Ксения Чилингарова и Electrolux рассказали, как ухаживать за зимней одеждой','Шведский концерн Electrolux и основательница российского бренда верхней одежды Arctic Explorer Ксения Чилингарова сделали коллаборацию. В ролике в Instagram Ксении, а также на платформе Make it last они рассказали о важности разумного потребления и о том, как правильно ухаживать за зимним гардеробом. Например, она посоветовала использовать во время стирки жидкое моющее средство, а не стиральный порошок (его частицы могут забиться в поры материала). «Мой отец — арктический исследователь, и именно его история успеха вдохновила меня на создание своего бренда Arctic Explorer. Я ручаюсь за качество каждой детали своей одежды и как никто другой понимаю, что зимние вещи должны служить долго. А ответственность по уходу и продлению срока службы этой одежды целиком ложится на плечи обладателя. Поэтому так важно рассказывать об этом подробнее, что мы и сделали для Make it last», — рассказала Ксения Чилингарова.'],\n",
        "    '11':['https://theblueprint.ru/news/18231','27.10.20','Ksenia Schnaider показали коллекцию весна-лето 2021 и рассказали о новой концепции','Дизайнеры Ксения и Антон Шнайдер показали коллекцию Ksenia Schnaider весна-лето 2021 и рассказали о новой концепции бренда. Теперь вещи марки будут доступны только по предзаказу. «Переход на изготовление одежды под конкретный запрос клиента для меня самый экологичный и правильный вариант работы в данный момент. Пандемия показала как много мы производим ненужной одежды и мы решили пересмотреть наш подход к работе и отказаться от производства тиражей», — прокомментировала Ксения Шнайдер. В новую коллекцию Ksenia Schnaider вошли укороченные куртки, классический бежевый двубортный тренч с элементами из денима, хлопковые белые платья, шорты и юбки из винтажного денима, а также рубашки, сшитые из образцов ткани, и джинсы, сделанные из отходов производства. Все вещи доступны к предзаказу на сайте kseniaschnaider.com.О том, как создаются джинсы Ksenia Schnaider, мы рассказывали тут.'],\n",
        "    '12':['https://theblueprint.ru/news/18056','13.10.20','Finn Flare совместно с WWF России запустили акцию «Сохраним природу Камчатки»','Finn Flare совместно со Всемирным фондом дикой природы (WWF) России запускает акцию «Сохраним природу Камчатки». С сегодняшнего дня худи из лимитированной коллекции бренда «Возврат к истокам» будут доступны с 25% скидкой. Также 25% от продажи каждой вещи направят в WWF России на сохранение природы полуострова. Так компании участвуют в устранении последствий неизвестного загрязнения акватории Тихого Океана вблизи Халактырского пляжа, из-за которого пострадали местные экосистемы. «Толстовка с изображением Камчатки — одна из самых красивых в лимитированной коллекции. Мы хотели внести свой посильный вклад, чтобы можно было разобраться в сложившейся ситуации и помочь природе этого удивительного региона», — комментирует Ксения Рясова, президент Finn Flare. Получить скидку можно по промокоду HELPKamchatka в онлайн-магазине, а также во всех московских магазинах сети, где представлена коллекция «Возврат к истокам».'],\n",
        "    '13':['https://theblueprint.ru/news/14783','11.02.20','Грета Тунберг запустит свое шоу вместе с BBC','BBC снимут документальный сериал об активистке Грете Тунберг. Планируется, что новое шоу расскажет историю девочки о ее борьбе с климатическими изменениями, а также покажет личные переживания Греты и процесс ее взросления. Продюсер сериала Роб Лидделл сообщил, что работать с Гретой над таким шоу — необычайная привилегия. Документальный фильм о Грете Тунберг также снимает стриминговый сервис Hulu — об этом мы писали тут.'],\n",
        "    '14':['https://theblueprint.ru/news/17749','22.09.20','К 2022 году Nespresso достигнут углеродной нейтральности на протяжении всего цикла ','К 2022 году Nespresso достигнут углеродной нейтральности на протяжении всего цикла Компания Nespresso достигнет углеродной нейтральности на протяжении всего цикла уже к 2022 году. Об этом заявил глава Nespresso Гийом Ле Кунф. Углеродный след (то есть совокупность выбросов парниковых газов) остается, в частности, от производства капсул кофе. Чтобы стать углеродно-нейтральной, Nespresso сократят выбросы углекислого газа и посадят деревья на кофейных плантациях, где компания выращивает кофе. Также Nespresso будут инвестировать в инновационные экопроекты. Помимо этого, компания намерена поддерживать стабильный уровень жизни фермеров и формирование цикличного процесса работы, который основан на возобновлении ресурсов. «Климатические изменения — это наша действительность и будущее зависит от дальнейшего фокуса на выполнение обязательств в области устойчивого развития. Именно поэтому мы ускоряем реализацию наших планов, чтобы к 2022 году наши клиенты могли наслаждаться приготовленной из самых качественных и редких зерен чашкой кофе, зная, что ее производство является полностью углеродно-нейтральной», — заявил Гийом Ле Кунф, CEO Nespresso. Nespresso работают над углеродной нейтральностью уже несколько лет. За это время компании значительно сократила вредные выбросы.'],\n",
        "    '15':['https://theblueprint.ru/news/17653','16.09.20','Paul Smith перестанут использовать шкуры экзотических животных в своих коллекциях','Британский бренд Paul Smith больше не будет использовать шкуры экзотических животных при создании коллекций. В запретный список вошли материалы, получаемые из шкур аллигаторов, козлов, страусов, змей и кенгуру. Организация PETA, защищающая права животных, поддержала решение компании. «За каждым аксессуаром, сделанным из шкур кенгуру, питона или аллигатора, стоит животное, которое не хотело умирать. Решение, принятое в Paul Smith, избавит животных от страданий — и PETA призывают другие бренды последовать этому доброму примеру», — сообщила директор корпоративных проектов PETA Ивонн Тейлор.'],\n",
        "    '16':['https://theblueprint.ru/news/14607','30.01.20','Взгляните на новые кроссовки Pangaia — они сделаны из виноградного жмыха','Бренд Pangaia представил новые кроссовки, которые полностью сделаны из переработанных материалов. Подошва модели создана из вторичной резины, а верх — из кожзама на основе виноградного жмыха. Этот материал остается при производстве вина. Таким образом Pangaia надеются помочь винодельням избавиться от органического мусора. Кроссовки доступны в черном и белом цветах. Их уже можно купить на сайте Pangaia за $245.'],\n",
        "    '17':['https://theblueprint.ru/news/14606','30.01.20','Грета Тунберг зарегистрирует свое имя как товарный знак','Грета Тунберг рассказала в Instagram, что подала заявку на регистрацию своего имени как товарного знака. Так экоактивистка хочет запретить компаниям использовать свое имя в целях, которые не сходятся с ее ценностями. Грета также планирует официально зарегистрировать свое движение FridaysForFuture. «Мое имя и #FridaysForFuture постоянно используют в коммерческих целях, не спрашивая разрешения. Так поступают маркетологи, рекламные агенты и люди, собирающие деньги от моего имени и от имени моего движения», — написала она в своем аккаунте. О том, как шестнадцатилетняя школьница из Стокгольма стала знаменитой и добралась до звания «Человека года» по версии Time, мы писали тут.'],\n",
        "    '18':['https://theblueprint.ru/news/13994','17.12.19','Про экоактивистку Грету Тунберг снимут документальный фильм','Стриминговый сервис Hulu выпустит документальный фильм о 16-летней экоактивистке Грете Тунберг, которую на прошлой неделе назвали «Человеком года» по версии Time. В шортлист номинантов на это почетное звание вместе с ней вошли американский политик Нэнси Пелоси и президент США Дональд Трамп (последний очень расстроился после «проигрыша» — и даже опубликовал язвительный твит по этому поводу). За работу над фильмом возьмутся продюсеры Сесилия Нессен и Фредерик Хейниг. Режиссером станет Натан Гроссман. Ожидается, что премьера состоится в 2020 году. Грета Тунберг прославилась как 16-летняя активистка из Швеции, которая пропускала школьные занятия по пятницам, чтобы проводить одиночную «школьную забастовку за климат» у здания шведского парламента. О том, как она пришла к собственным выступлениям на TEDx, речам перед представителями ООН и званию «Человек года» по версии Time, можно узнать тут.'],\n",
        "    '19':['https://theblueprint.ru/news/14393','21.01.20','Bvlgari поддержали производство жасминав Индии ','Bvlgari вместе с брендом ароматов Firmenich и его индийским партнером Jasmine Concrete запустили проект, поддерживающий производство жасмина в Индии. Благодаря инициативе Flower Gems of India сто семейных ферм внедрят в работу новый способ выращивания. Планируется, что он станет более экологичным, прибыльным для фермеров и повысит качество цветов. Директор Jasmine Concrete Раджа Паланисвами считает, что соглашение повысит уровень благосостояния местного населения.'],\n",
        "    '20':['https://theblueprint.ru/news/15829','23.04.20','Художник Олафур Элиассон представил  проект ко Дню Земли вместе с галереей Serpentine ','Датско-исландский художник и дизайнер Олафур Элиассон объединился с лондонской галереи Serpentine для создания нового проекта «Перспективы Земли». Эта инициатива является частью 50-летней программы Serpentine Gallery «Возвращение на Землю», в которой представлены произведения искусства, посвященные климатическим изменениям. «Перспективы Земли» Элиассона включает девять изображений, каждое из которых указывает на определенную географическую точку на земном шаре. Если смотреть на точку в течение десяти секунд, а затем перевести взгляд на пустую поверхность, то можно будет увидеть новое изображение в других цветах. По словам художника, это «буквально дает нам новый взгляд на мир». «Сегодня выражение „мир, каким мы его знаем“ — это фраза прошлого. Нынешний кризис затронул все сферы нашего общества: экономику, гражданские свободы и даже наши социальные связи. Мы должны сопереживать всем пострадавшим от этой международной катастрофы. Кроме того, мы должны воспользоваться этой возможностью, чтобы вместе представить себе Землю, на которой мы хотим жить в будущем — во всех ее чудесах и красоте. Проект „Перспективы Земли“ представляет нашу планету, на которой мы хотим жить вместе, думая не только о человеке и его потребностях, но и о растениях, животных и природе в целом», — рассказал про запуск художник. На изображениях Элиассона можно увидеть Большой Барьерный риф в Австралии, реку Ганг в Индии, Чернобыль, Припять, Украину в целом, Южный полюс и другие точки нашей планеты.'],\n",
        "    '21':['https://theblueprint.ru/news/13987','16.12.19','ASOS подписали соглашение по устойчивому развитию с фондом Элен Макартур','ASOS и благотворительный фонд Элен Макартур подписали соглашение по устойчивому развитию. Теперь британский ритейлер будет использовать меньше пластика для упаковки товаров, а к 2025 году откажется от одноразовой обертки. Все пакеты компании будут выполнены из материалов, которые разлагаются или перерабатываются. Чтобы сократить выбросы, ASOS позволит клиентам сдавать упаковку на переработку. О том, какие еще инициативы вводятся для того, чтобы модная индустрия наносила меньше вреда экологии, мы писали тут.'],\n",
        "    '22':['https://theblueprint.ru/news/15716','14.04.20','Pinterest запускают онлайн-магазин для поддержки эко-брендов, пострадавших от коронавируса','Сотрудники компании Pinterest рассказали, что за последние несколько недель количество поисковых запросов с ключевыми словами «поддержка малого бизнеса» со стороны пользователей сайта увеличилось на 351%. В связи с этим компания решила запустить онлайн-магазин The Pinterest Shop для поддержки локальных эко-брендов, пострадавших от пандемии коронавируса. В нем можно будет купить различные аксессуары, косметику и товары для дома — все продукты соответствуют принципам устойчивого развития. «Pinterest предлагает покупателям возможность находить новые уникальные продукты и дизайнерские решения. Pinterest Shop создан для поддержки локальных брендов,которые нуждаются в финансовой помощи больше, чем когда-либо», — рассказала глава маркетинг-отдела Pinterest Колин Штауффер.'],\n",
        "    '23':['https://theblueprint.ru/news/14295','16.01.20','Versace больше не будут использовать кожу кенгуру в своих коллекциях','Versace отказались от использования кожи кенгуру. Это решение было принято еще в прошлом году — модный дом не включил вещи из кожи животного в коллекцию 2019 года, однако известно об этом стало только сегодня. Отказ от использования этого материала связывают с природными пожарами в Австралии, но есть мнение, что решение принято в ответ на протесты зоозащитников. В ответ на принятие нового положения представитель итальянской организации по защите животных LAV Симона Павеси поддержала модный дом, сказав, что одобряет такой подход.'],\n",
        "    '24':['https://theblueprint.ru/news/13164','13.10.19','В Калифорнии запретят продажу меха','Губернатор штата Калифорния Гэвин Ньюсом одобрил запрет на производство и продажу новых изделий из меха животных. Закон вступит в силу в 2023 году. Под запрет попадут одежда, сумки, обувь, тапки, связки для ключей и головные уборы из натурального меха. Закон не распространяется на кожу, шкуры животных и мех, который используется в религиозных обрядах. Еще одно исключение — меховые изделия, произведенные до принятия закона. Помимо этого, в Калифорнии запретят охоту на красных рысей и цирковые выступления диких животных, таких как медведи и слоны. «Калифорния — лидер по защите животных. Сегодня это подразумевает запрет на продажу меха. Но мы идем дальше. Мы заявляем всему миру, что такие прекрасные дикие животные, как медведи или тигры, не должны выступать на трапеции или прыгать через огонь», — заявил Гэвин Ньюсом. После принятия закона Калифорния станет первым штатом CША, официально запретившим производство и продажу изделий из меха.']\n",
        "\n",
        "}    \n",
        "greenprint = pd.DataFrame.from_dict(data, orient=\"columns\").T.rename(columns={0:'источник', 1:'дата',2:'заголовок',3:'текст'})\n",
        "\n",
        "display(greenprint)"
      ],
      "metadata": {
        "id": "2gtqcspBbhst"
      },
      "id": "2gtqcspBbhst",
      "execution_count": null,
      "outputs": []
    },
    {
      "cell_type": "code",
      "source": [
        "greenprint.to_csv('ecoheadlines_hw_EP.csv')"
      ],
      "metadata": {
        "id": "d-ob4KShfu_Y"
      },
      "id": "d-ob4KShfu_Y",
      "execution_count": 161,
      "outputs": []
    }
  ],
  "metadata": {
    "kernelspec": {
      "display_name": "Python 3 (ipykernel)",
      "language": "python",
      "name": "python3"
    },
    "language_info": {
      "codemirror_mode": {
        "name": "ipython",
        "version": 3
      },
      "file_extension": ".py",
      "mimetype": "text/x-python",
      "name": "python",
      "nbconvert_exporter": "python",
      "pygments_lexer": "ipython3",
      "version": "3.10.0"
    },
    "colab": {
      "name": "ДЗ-2.ipynb",
      "provenance": []
    }
  },
  "nbformat": 4,
  "nbformat_minor": 5
}